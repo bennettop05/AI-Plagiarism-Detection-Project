{
 "cells": [
  {
   "cell_type": "code",
   "execution_count": 1,
   "metadata": {},
   "outputs": [],
   "source": [
    "import pandas as pd\n",
    "import tensorflow as tf\n",
    "import numpy as np\n",
    "import matplotlib.pyplot as plt\n",
    "from sklearn.model_selection import train_test_split"
   ]
  },
  {
   "cell_type": "code",
   "execution_count": 2,
   "metadata": {},
   "outputs": [],
   "source": [
    "class CFG:\n",
    "    sequence_length = 1024\n",
    "    vocab_size = 10000\n",
    "    is_training = True"
   ]
  },
  {
   "cell_type": "code",
   "execution_count": 3,
   "metadata": {},
   "outputs": [
    {
     "data": {
      "text/html": [
       "<div>\n",
       "<style scoped>\n",
       "    .dataframe tbody tr th:only-of-type {\n",
       "        vertical-align: middle;\n",
       "    }\n",
       "\n",
       "    .dataframe tbody tr th {\n",
       "        vertical-align: top;\n",
       "    }\n",
       "\n",
       "    .dataframe thead th {\n",
       "        text-align: right;\n",
       "    }\n",
       "</style>\n",
       "<table border=\"1\" class=\"dataframe\">\n",
       "  <thead>\n",
       "    <tr style=\"text-align: right;\">\n",
       "      <th></th>\n",
       "      <th>text</th>\n",
       "      <th>label</th>\n",
       "      <th>prompt_name</th>\n",
       "      <th>source</th>\n",
       "      <th>RDizzl3_seven</th>\n",
       "    </tr>\n",
       "  </thead>\n",
       "  <tbody>\n",
       "    <tr>\n",
       "      <th>0</th>\n",
       "      <td>Phones\\n\\nModern humans today are always on th...</td>\n",
       "      <td>0</td>\n",
       "      <td>Phones and driving</td>\n",
       "      <td>persuade_corpus</td>\n",
       "      <td>False</td>\n",
       "    </tr>\n",
       "    <tr>\n",
       "      <th>1</th>\n",
       "      <td>This essay will explain if drivers should or s...</td>\n",
       "      <td>0</td>\n",
       "      <td>Phones and driving</td>\n",
       "      <td>persuade_corpus</td>\n",
       "      <td>False</td>\n",
       "    </tr>\n",
       "    <tr>\n",
       "      <th>2</th>\n",
       "      <td>Driving while the use of cellular devices\\n\\nT...</td>\n",
       "      <td>0</td>\n",
       "      <td>Phones and driving</td>\n",
       "      <td>persuade_corpus</td>\n",
       "      <td>False</td>\n",
       "    </tr>\n",
       "    <tr>\n",
       "      <th>3</th>\n",
       "      <td>Phones &amp; Driving\\n\\nDrivers should not be able...</td>\n",
       "      <td>0</td>\n",
       "      <td>Phones and driving</td>\n",
       "      <td>persuade_corpus</td>\n",
       "      <td>False</td>\n",
       "    </tr>\n",
       "    <tr>\n",
       "      <th>4</th>\n",
       "      <td>Cell Phone Operation While Driving\\n\\nThe abil...</td>\n",
       "      <td>0</td>\n",
       "      <td>Phones and driving</td>\n",
       "      <td>persuade_corpus</td>\n",
       "      <td>False</td>\n",
       "    </tr>\n",
       "  </tbody>\n",
       "</table>\n",
       "</div>"
      ],
      "text/plain": [
       "                                                text  label  \\\n",
       "0  Phones\\n\\nModern humans today are always on th...      0   \n",
       "1  This essay will explain if drivers should or s...      0   \n",
       "2  Driving while the use of cellular devices\\n\\nT...      0   \n",
       "3  Phones & Driving\\n\\nDrivers should not be able...      0   \n",
       "4  Cell Phone Operation While Driving\\n\\nThe abil...      0   \n",
       "\n",
       "          prompt_name           source  RDizzl3_seven  \n",
       "0  Phones and driving  persuade_corpus          False  \n",
       "1  Phones and driving  persuade_corpus          False  \n",
       "2  Phones and driving  persuade_corpus          False  \n",
       "3  Phones and driving  persuade_corpus          False  \n",
       "4  Phones and driving  persuade_corpus          False  "
      ]
     },
     "execution_count": 3,
     "metadata": {},
     "output_type": "execute_result"
    }
   ],
   "source": [
    "train_df = pd.read_csv(\"train_v2_drcat_02.csv\")\n",
    "train_df.head()"
   ]
  },
  {
   "cell_type": "code",
   "execution_count": 4,
   "metadata": {},
   "outputs": [],
   "source": [
    "train_df[\"text_length\"] = train_df[\"text\"].apply(lambda text: len(text.split(\" \")))"
   ]
  },
  {
   "cell_type": "code",
   "execution_count": 5,
   "metadata": {},
   "outputs": [
    {
     "data": {
      "text/html": [
       "<div>\n",
       "<style scoped>\n",
       "    .dataframe tbody tr th:only-of-type {\n",
       "        vertical-align: middle;\n",
       "    }\n",
       "\n",
       "    .dataframe tbody tr th {\n",
       "        vertical-align: top;\n",
       "    }\n",
       "\n",
       "    .dataframe thead th {\n",
       "        text-align: right;\n",
       "    }\n",
       "</style>\n",
       "<table border=\"1\" class=\"dataframe\">\n",
       "  <thead>\n",
       "    <tr style=\"text-align: right;\">\n",
       "      <th></th>\n",
       "      <th>text_length</th>\n",
       "    </tr>\n",
       "  </thead>\n",
       "  <tbody>\n",
       "    <tr>\n",
       "      <th>count</th>\n",
       "      <td>44868.000000</td>\n",
       "    </tr>\n",
       "    <tr>\n",
       "      <th>mean</th>\n",
       "      <td>386.142440</td>\n",
       "    </tr>\n",
       "    <tr>\n",
       "      <th>std</th>\n",
       "      <td>225.375414</td>\n",
       "    </tr>\n",
       "    <tr>\n",
       "      <th>min</th>\n",
       "      <td>4.000000</td>\n",
       "    </tr>\n",
       "    <tr>\n",
       "      <th>25%</th>\n",
       "      <td>273.000000</td>\n",
       "    </tr>\n",
       "    <tr>\n",
       "      <th>50%</th>\n",
       "      <td>350.000000</td>\n",
       "    </tr>\n",
       "    <tr>\n",
       "      <th>75%</th>\n",
       "      <td>451.000000</td>\n",
       "    </tr>\n",
       "    <tr>\n",
       "      <th>max</th>\n",
       "      <td>14818.000000</td>\n",
       "    </tr>\n",
       "  </tbody>\n",
       "</table>\n",
       "</div>"
      ],
      "text/plain": [
       "        text_length\n",
       "count  44868.000000\n",
       "mean     386.142440\n",
       "std      225.375414\n",
       "min        4.000000\n",
       "25%      273.000000\n",
       "50%      350.000000\n",
       "75%      451.000000\n",
       "max    14818.000000"
      ]
     },
     "execution_count": 5,
     "metadata": {},
     "output_type": "execute_result"
    }
   ],
   "source": [
    "train_df[[\"text_length\"]].describe()"
   ]
  },
  {
   "cell_type": "code",
   "execution_count": 6,
   "metadata": {},
   "outputs": [
    {
     "data": {
      "text/plain": [
       "((35894, 6), (8974, 6))"
      ]
     },
     "execution_count": 6,
     "metadata": {},
     "output_type": "execute_result"
    }
   ],
   "source": [
    "train_data, valid_data = train_test_split(train_df, test_size=0.2, stratify=train_df[\"label\"], random_state=42)\n",
    "train_data.shape, valid_data.shape"
   ]
  },
  {
   "cell_type": "code",
   "execution_count": 7,
   "metadata": {},
   "outputs": [],
   "source": [
    "def create_dataset(dataframe, shuffle=True):\n",
    "    # Create a TensorFlow dataset from the text and label columns of the dataframe\n",
    "    dataset = tf.data.Dataset.from_tensor_slices((dataframe[\"text\"], dataframe[\"label\"]))\n",
    "    if shuffle:\n",
    "        # Shuffle the dataset if the shuffle parameter is True\n",
    "        dataset = dataset.shuffle(1024, reshuffle_each_iteration=True)\n",
    "    # Batch the dataset into smaller batches of size 256\n",
    "    dataset = dataset.batch(256).cache().prefetch(tf.data.AUTOTUNE)\n",
    "    # Prefetch the next batch of data to further optimize training\n",
    "    return dataset"
   ]
  },
  {
   "cell_type": "code",
   "execution_count": 8,
   "metadata": {},
   "outputs": [],
   "source": [
    "train_ds = create_dataset(train_data)\n",
    "valid_ds = create_dataset(valid_data, shuffle=False)"
   ]
  },
  {
   "cell_type": "code",
   "execution_count": 9,
   "metadata": {},
   "outputs": [],
   "source": [
    "# Create a TextVectorization layer with specified parameters\n",
    "vectorizer = tf.keras.layers.TextVectorization(\n",
    "    max_tokens=CFG.vocab_size, \n",
    "    output_sequence_length=CFG.sequence_length, \n",
    "    pad_to_max_tokens=True\n",
    ")\n",
    "# Adapt the TextVectorization layer to the training data\n",
    "vectorizer.adapt(train_df[\"text\"], batch_size=1024)"
   ]
  },
  {
   "cell_type": "code",
   "execution_count": 10,
   "metadata": {},
   "outputs": [
    {
     "name": "stderr",
     "output_type": "stream",
     "text": [
      "c:\\Users\\Archit\\AppData\\Local\\Programs\\Python\\Python311\\Lib\\site-packages\\keras\\src\\layers\\core\\embedding.py:86: UserWarning: Argument `input_length` is deprecated. Just remove it.\n",
      "  warnings.warn(\n"
     ]
    }
   ],
   "source": [
    "model = tf.keras.Sequential([\n",
    "    tf.keras.layers.Input(shape=(), dtype=tf.string),\n",
    "    vectorizer,\n",
    "    tf.keras.layers.Embedding(\n",
    "        input_dim=CFG.vocab_size, \n",
    "        output_dim=64,\n",
    "        input_length=CFG.sequence_length, \n",
    "        mask_zero=True\n",
    "    ),\n",
    "    tf.keras.layers.Bidirectional(tf.keras.layers.LSTM(64, return_sequences=True)), \n",
    "    tf.keras.layers.Bidirectional(tf.keras.layers.LSTM(32)), \n",
    "    tf.keras.layers.Dense(16, activation=\"relu\"),\n",
    "    tf.keras.layers.Dense(1, activation=\"sigmoid\")\n",
    "])\n",
    "model.compile(\n",
    "    loss=tf.keras.losses.BinaryCrossentropy(), \n",
    "    optimizer=tf.keras.optimizers.Adam(learning_rate=1e-3), \n",
    "    metrics=[\n",
    "        \"accuracy\", \n",
    "        tf.keras.metrics.AUC(name=\"auc\")\n",
    "    ]\n",
    ")\n",
    "# model.summary()\n",
    "# tf.keras.utils.plot_model(model, show_shapes=True)"
   ]
  },
  {
   "cell_type": "code",
   "execution_count": 13,
   "metadata": {},
   "outputs": [],
   "source": [
    "model.load_weights(\"lstm.h5\")"
   ]
  },
  {
   "cell_type": "code",
   "execution_count": null,
   "metadata": {},
   "outputs": [],
   "source": [
    "x=model.get_weights()\n",
    "\n",
    "print(x)"
   ]
  },
  {
   "cell_type": "code",
   "execution_count": 21,
   "metadata": {},
   "outputs": [
    {
     "name": "stdout",
     "output_type": "stream",
     "text": [
      "\u001b[1m36/36\u001b[0m \u001b[32m━━━━━━━━━━━━━━━━━━━━\u001b[0m\u001b[37m\u001b[0m \u001b[1m53s\u001b[0m 1s/step - accuracy: 0.9912 - auc: 0.9987 - loss: 0.0276\n"
     ]
    }
   ],
   "source": [
    "val_loss, val_accuracy, val_auc = model.evaluate(valid_ds)"
   ]
  },
  {
   "cell_type": "code",
   "execution_count": 24,
   "metadata": {},
   "outputs": [
    {
     "name": "stdout",
     "output_type": "stream",
     "text": [
      "\u001b[1m36/36\u001b[0m \u001b[32m━━━━━━━━━━━━━━━━━━━━\u001b[0m\u001b[37m\u001b[0m \u001b[1m50s\u001b[0m 1s/step\n"
     ]
    }
   ],
   "source": [
    "res=model.predict(valid_ds)"
   ]
  },
  {
   "cell_type": "code",
   "execution_count": 61,
   "metadata": {},
   "outputs": [
    {
     "name": "stdout",
     "output_type": "stream",
     "text": [
      "\u001b[1m1/1\u001b[0m \u001b[32m━━━━━━━━━━━━━━━━━━━━\u001b[0m\u001b[37m\u001b[0m \u001b[1m0s\u001b[0m 107ms/step\n",
      "[[0.79949]]\n"
     ]
    }
   ],
   "source": [
    "# Create a DataFrame with a single row containing the input text\"\n",
    "data = {\"text\": [input_text]}  # Assuming label is not used for prediction\n",
    "input_text = \"In a quaint town, a mysterious old bookstore appeared overnight, its shelves filled with books bound in strange leather. Curiosity drew Emma inside, where she found a book titled 'The Forgotten Tales.' As she read, the stories came to life around her, transporting her to fantastical realms. She met a mischievous fairy, a kind-hearted dragon, and a lonely ghost seeking company. Each adventure taught her valuable lessons about friendship, courage, and the power of imagination. When Emma finally closed the book, the store vanished, leaving her with memories of an extraordinary journey and a newfound belief in the magic of storytelling.\"\n",
    "input_df = pd.DataFrame(data)\n",
    "\n",
    "# Create a TensorFlow dataset from the DataFrame\n",
    "input_dataset = tf.data.Dataset.from_tensor_slices((input_df[\"text\"]))\n",
    "input_dataset = input_dataset.batch(1)  # Batch size of 1 since there's only one input text\n",
    "input_dataset = input_dataset.cache().prefetch(tf.data.AUTOTUNE)\n",
    "\n",
    "# Make a prediction using the model\n",
    "predictions = model.predict(input_dataset)\n",
    "\n",
    "# Assuming predictions is a numpy array, you can access the predicted class or value\n",
    "print(predictions)"
   ]
  },
  {
   "cell_type": "code",
   "execution_count": 51,
   "metadata": {},
   "outputs": [
    {
     "data": {
      "text/html": [
       "<div>\n",
       "<style scoped>\n",
       "    .dataframe tbody tr th:only-of-type {\n",
       "        vertical-align: middle;\n",
       "    }\n",
       "\n",
       "    .dataframe tbody tr th {\n",
       "        vertical-align: top;\n",
       "    }\n",
       "\n",
       "    .dataframe thead th {\n",
       "        text-align: right;\n",
       "    }\n",
       "</style>\n",
       "<table border=\"1\" class=\"dataframe\">\n",
       "  <thead>\n",
       "    <tr style=\"text-align: right;\">\n",
       "      <th></th>\n",
       "      <th>text</th>\n",
       "      <th>label</th>\n",
       "      <th>prompt_name</th>\n",
       "      <th>source</th>\n",
       "      <th>RDizzl3_seven</th>\n",
       "      <th>text_length</th>\n",
       "    </tr>\n",
       "  </thead>\n",
       "  <tbody>\n",
       "    <tr>\n",
       "      <th>25721</th>\n",
       "      <td>Advice about receiving advice\\n\\nDoing somethi...</td>\n",
       "      <td>0</td>\n",
       "      <td>Seeking multiple opinions</td>\n",
       "      <td>persuade_corpus</td>\n",
       "      <td>False</td>\n",
       "      <td>414</td>\n",
       "    </tr>\n",
       "    <tr>\n",
       "      <th>2844</th>\n",
       "      <td>Cars, some people think they are the most impo...</td>\n",
       "      <td>0</td>\n",
       "      <td>Car-free cities</td>\n",
       "      <td>persuade_corpus</td>\n",
       "      <td>True</td>\n",
       "      <td>434</td>\n",
       "    </tr>\n",
       "    <tr>\n",
       "      <th>5726</th>\n",
       "      <td>Seagoing\\n\\nDo you want an adventure? Maybe yo...</td>\n",
       "      <td>0</td>\n",
       "      <td>\"A Cowboy Who Rode the Waves\"</td>\n",
       "      <td>persuade_corpus</td>\n",
       "      <td>True</td>\n",
       "      <td>390</td>\n",
       "    </tr>\n",
       "    <tr>\n",
       "      <th>19708</th>\n",
       "      <td>I think they should go by popular vote ! beacu...</td>\n",
       "      <td>0</td>\n",
       "      <td>Does the electoral college work?</td>\n",
       "      <td>persuade_corpus</td>\n",
       "      <td>True</td>\n",
       "      <td>3097</td>\n",
       "    </tr>\n",
       "    <tr>\n",
       "      <th>11234</th>\n",
       "      <td>Do you believe that there is a computer that c...</td>\n",
       "      <td>0</td>\n",
       "      <td>Facial action coding system</td>\n",
       "      <td>persuade_corpus</td>\n",
       "      <td>True</td>\n",
       "      <td>179</td>\n",
       "    </tr>\n",
       "    <tr>\n",
       "      <th>...</th>\n",
       "      <td>...</td>\n",
       "      <td>...</td>\n",
       "      <td>...</td>\n",
       "      <td>...</td>\n",
       "      <td>...</td>\n",
       "      <td>...</td>\n",
       "    </tr>\n",
       "    <tr>\n",
       "      <th>34531</th>\n",
       "      <td>[Your Name]\\n[Your Address]\\n[City, State, ZIP...</td>\n",
       "      <td>1</td>\n",
       "      <td>Does the electoral college work?</td>\n",
       "      <td>radek_500</td>\n",
       "      <td>True</td>\n",
       "      <td>603</td>\n",
       "    </tr>\n",
       "    <tr>\n",
       "      <th>31905</th>\n",
       "      <td>Taking the traditional four years to complete ...</td>\n",
       "      <td>1</td>\n",
       "      <td>Distance learning</td>\n",
       "      <td>chat_gpt_moth</td>\n",
       "      <td>False</td>\n",
       "      <td>256</td>\n",
       "    </tr>\n",
       "    <tr>\n",
       "      <th>18193</th>\n",
       "      <td>The future is near, and it's bringing what Ame...</td>\n",
       "      <td>0</td>\n",
       "      <td>Driverless cars</td>\n",
       "      <td>persuade_corpus</td>\n",
       "      <td>True</td>\n",
       "      <td>358</td>\n",
       "    </tr>\n",
       "    <tr>\n",
       "      <th>30048</th>\n",
       "      <td>Hey, so I'm gonna write this essay about why f...</td>\n",
       "      <td>1</td>\n",
       "      <td>Seeking multiple opinions</td>\n",
       "      <td>llama2_chat</td>\n",
       "      <td>False</td>\n",
       "      <td>359</td>\n",
       "    </tr>\n",
       "    <tr>\n",
       "      <th>35805</th>\n",
       "      <td>As an eighth-grade student, I believe that hav...</td>\n",
       "      <td>1</td>\n",
       "      <td>Facial action coding system</td>\n",
       "      <td>mistral7binstruct_v1</td>\n",
       "      <td>True</td>\n",
       "      <td>377</td>\n",
       "    </tr>\n",
       "  </tbody>\n",
       "</table>\n",
       "<p>8974 rows × 6 columns</p>\n",
       "</div>"
      ],
      "text/plain": [
       "                                                    text  label  \\\n",
       "25721  Advice about receiving advice\\n\\nDoing somethi...      0   \n",
       "2844   Cars, some people think they are the most impo...      0   \n",
       "5726   Seagoing\\n\\nDo you want an adventure? Maybe yo...      0   \n",
       "19708  I think they should go by popular vote ! beacu...      0   \n",
       "11234  Do you believe that there is a computer that c...      0   \n",
       "...                                                  ...    ...   \n",
       "34531  [Your Name]\\n[Your Address]\\n[City, State, ZIP...      1   \n",
       "31905  Taking the traditional four years to complete ...      1   \n",
       "18193  The future is near, and it's bringing what Ame...      0   \n",
       "30048  Hey, so I'm gonna write this essay about why f...      1   \n",
       "35805  As an eighth-grade student, I believe that hav...      1   \n",
       "\n",
       "                            prompt_name                source  RDizzl3_seven  \\\n",
       "25721         Seeking multiple opinions       persuade_corpus          False   \n",
       "2844                    Car-free cities       persuade_corpus           True   \n",
       "5726      \"A Cowboy Who Rode the Waves\"       persuade_corpus           True   \n",
       "19708  Does the electoral college work?       persuade_corpus           True   \n",
       "11234       Facial action coding system       persuade_corpus           True   \n",
       "...                                 ...                   ...            ...   \n",
       "34531  Does the electoral college work?             radek_500           True   \n",
       "31905                 Distance learning         chat_gpt_moth          False   \n",
       "18193                   Driverless cars       persuade_corpus           True   \n",
       "30048         Seeking multiple opinions           llama2_chat          False   \n",
       "35805       Facial action coding system  mistral7binstruct_v1           True   \n",
       "\n",
       "       text_length  \n",
       "25721          414  \n",
       "2844           434  \n",
       "5726           390  \n",
       "19708         3097  \n",
       "11234          179  \n",
       "...            ...  \n",
       "34531          603  \n",
       "31905          256  \n",
       "18193          358  \n",
       "30048          359  \n",
       "35805          377  \n",
       "\n",
       "[8974 rows x 6 columns]"
      ]
     },
     "execution_count": 51,
     "metadata": {},
     "output_type": "execute_result"
    }
   ],
   "source": [
    "valid_data"
   ]
  },
  {
   "cell_type": "code",
   "execution_count": 58,
   "metadata": {},
   "outputs": [
    {
     "ename": "UnicodeEncodeError",
     "evalue": "'charmap' codec can't encode character '\\U0001f605' in position 25589: character maps to <undefined>",
     "output_type": "error",
     "traceback": [
      "\u001b[1;31m---------------------------------------------------------------------------\u001b[0m",
      "\u001b[1;31mUnicodeEncodeError\u001b[0m                        Traceback (most recent call last)",
      "Cell \u001b[1;32mIn[58], line 1\u001b[0m\n\u001b[1;32m----> 1\u001b[0m \u001b[43mmodel\u001b[49m\u001b[38;5;241;43m.\u001b[39;49m\u001b[43msave\u001b[49m\u001b[43m(\u001b[49m\u001b[38;5;124;43m\"\u001b[39;49m\u001b[38;5;124;43mmodel.keras\u001b[39;49m\u001b[38;5;124;43m\"\u001b[39;49m\u001b[43m)\u001b[49m\n",
      "File \u001b[1;32mc:\\Users\\Archit\\AppData\\Local\\Programs\\Python\\Python311\\Lib\\site-packages\\keras\\src\\utils\\traceback_utils.py:122\u001b[0m, in \u001b[0;36mfilter_traceback.<locals>.error_handler\u001b[1;34m(*args, **kwargs)\u001b[0m\n\u001b[0;32m    119\u001b[0m     filtered_tb \u001b[38;5;241m=\u001b[39m _process_traceback_frames(e\u001b[38;5;241m.\u001b[39m__traceback__)\n\u001b[0;32m    120\u001b[0m     \u001b[38;5;66;03m# To get the full stack trace, call:\u001b[39;00m\n\u001b[0;32m    121\u001b[0m     \u001b[38;5;66;03m# `keras.config.disable_traceback_filtering()`\u001b[39;00m\n\u001b[1;32m--> 122\u001b[0m     \u001b[38;5;28;01mraise\u001b[39;00m e\u001b[38;5;241m.\u001b[39mwith_traceback(filtered_tb) \u001b[38;5;28;01mfrom\u001b[39;00m \u001b[38;5;28;01mNone\u001b[39;00m\n\u001b[0;32m    123\u001b[0m \u001b[38;5;28;01mfinally\u001b[39;00m:\n\u001b[0;32m    124\u001b[0m     \u001b[38;5;28;01mdel\u001b[39;00m filtered_tb\n",
      "File \u001b[1;32mc:\\Users\\Archit\\AppData\\Local\\Programs\\Python\\Python311\\Lib\\encodings\\cp1252.py:19\u001b[0m, in \u001b[0;36mIncrementalEncoder.encode\u001b[1;34m(self, input, final)\u001b[0m\n\u001b[0;32m     18\u001b[0m \u001b[38;5;28;01mdef\u001b[39;00m \u001b[38;5;21mencode\u001b[39m(\u001b[38;5;28mself\u001b[39m, \u001b[38;5;28minput\u001b[39m, final\u001b[38;5;241m=\u001b[39m\u001b[38;5;28;01mFalse\u001b[39;00m):\n\u001b[1;32m---> 19\u001b[0m     \u001b[38;5;28;01mreturn\u001b[39;00m \u001b[43mcodecs\u001b[49m\u001b[38;5;241;43m.\u001b[39;49m\u001b[43mcharmap_encode\u001b[49m\u001b[43m(\u001b[49m\u001b[38;5;28;43minput\u001b[39;49m\u001b[43m,\u001b[49m\u001b[38;5;28;43mself\u001b[39;49m\u001b[38;5;241;43m.\u001b[39;49m\u001b[43merrors\u001b[49m\u001b[43m,\u001b[49m\u001b[43mencoding_table\u001b[49m\u001b[43m)\u001b[49m[\u001b[38;5;241m0\u001b[39m]\n",
      "\u001b[1;31mUnicodeEncodeError\u001b[0m: 'charmap' codec can't encode character '\\U0001f605' in position 25589: character maps to <undefined>"
     ]
    }
   ],
   "source": [
    "model.save(\"model.keras\")"
   ]
  },
  {
   "cell_type": "code",
   "execution_count": null,
   "metadata": {},
   "outputs": [],
   "source": []
  }
 ],
 "metadata": {
  "kernelspec": {
   "display_name": "Python 3",
   "language": "python",
   "name": "python3"
  },
  "language_info": {
   "codemirror_mode": {
    "name": "ipython",
    "version": 3
   },
   "file_extension": ".py",
   "mimetype": "text/x-python",
   "name": "python",
   "nbconvert_exporter": "python",
   "pygments_lexer": "ipython3",
   "version": "3.11.4"
  }
 },
 "nbformat": 4,
 "nbformat_minor": 2
}
